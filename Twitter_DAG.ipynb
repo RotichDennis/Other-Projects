{
  "nbformat": 4,
  "nbformat_minor": 0,
  "metadata": {
    "colab": {
      "provenance": []
    },
    "kernelspec": {
      "name": "python3",
      "display_name": "Python 3"
    },
    "language_info": {
      "name": "python"
    }
  },
  "cells": [
    {
      "cell_type": "code",
      "execution_count": null,
      "metadata": {
        "id": "MquzThs5teE8"
      },
      "outputs": [],
      "source": [
        "#twitter_dag\n",
        "from datetime import timedelta\n",
        "from airflow import DAG\n",
        "from airflow.operators.pyhton_operator import PythonOperator\n",
        "from airflow.utils.dates import days_ago\n",
        "from datetime import datetime\n",
        "from twitter_etl import run_twitter_etl"
      ]
    },
    {
      "cell_type": "code",
      "source": [
        "#default dags for airflow\n",
        "default_args={\n",
        "    'owner': 'airflow',\n",
        "    'depends_on_past': False,\n",
        "    'start_date': datetime(2020, 11, 8),\n",
        "    'email': ['airflow@example.com'],\n",
        "    'email_on_failure': False,\n",
        "    'email_on_retry': False,\n",
        "    'retries': 1,\n",
        "    'retry_delay': timedelta(minutes=1)\n",
        "}"
      ],
      "metadata": {
        "id": "_8v_UyU_trc6"
      },
      "execution_count": null,
      "outputs": []
    },
    {
      "cell_type": "code",
      "source": [
        "dag=DAG(\n",
        "    'twitter_dag',\n",
        "    default_args=default_args,\n",
        "    description='My first etl code'\n",
        ")\n",
        "\n",
        "run_etl=PythonOperator(\n",
        "    task_id='complete_twitter_etl',\n",
        "    python_callable=run_twitter_etl,\n",
        "    dag=dag,\n",
        ")"
      ],
      "metadata": {
        "id": "EmuOh2qtvo9t"
      },
      "execution_count": null,
      "outputs": []
    }
  ]
}